{
 "cells": [
  {
   "cell_type": "markdown",
   "metadata": {},
   "source": [
    "## Lab-1: Unit Converter"
   ]
  },
  {
   "cell_type": "code",
   "execution_count": 3,
   "metadata": {},
   "outputs": [
    {
     "name": "stdout",
     "output_type": "stream",
     "text": [
      "...initializing...\n",
      "...Converting 1000 ft to yd\n",
      "\n",
      "    => 1000 ft is 333.33333333333337 yd\n",
      "\n",
      "\n",
      "Thanks for converting with me!!!\n"
     ]
    }
   ],
   "source": [
    "def distance_converter(distance, original_unit, conversion_unit):\n",
    "    print(\n",
    "        f'...Converting { distance } { original_unit } to { conversion_unit }')\n",
    "    # switch dictionary that contains all supported units in meters for conversion calculations\n",
    "    switch = {\n",
    "        'in': 0.0254,   # 1 inch is 0.0254 m\n",
    "        'ft': 0.3048,   # 1 ft is 0.3048 m\n",
    "        'yd': 0.9144,   # 1 yard is 0.9144 m\n",
    "        'mi': 1609.34,  # 1 mi is 1609.34 m\n",
    "        'm': 1,         # 1 m is 1 m\n",
    "        'km': 1000      # 1 km is 1000 m\n",
    "    }\n",
    "\n",
    "    float_distance = float(distance)\n",
    "\n",
    "    # conversion_value = (original_distance*original_unit_meters)/ conversion_unit_meters\n",
    "    conversion = float_distance * \\\n",
    "        switch.get(original_unit, \"Invalid input\") / \\\n",
    "        switch.get(conversion_unit, \"Invalid input\")\n",
    "    print(\n",
    "        f'\\n    => { distance } { original_unit } is { conversion } { conversion_unit }')\n",
    "\n",
    "\n",
    "def main():\n",
    "    supported_units = ['in', 'ft', 'yd', 'mi', 'm', 'km']\n",
    "\n",
    "    # user-inputs\n",
    "    print('...initializing...')\n",
    "    run = input(\n",
    "        f'Would you like to convert a distance?\\nSupported Conversions: { supported_units }?\\n    y/n: ').lower()\n",
    "    while run == 'y':\n",
    "        distance = input('What is the distance? \\n    => ')\n",
    "        if not distance.isnumeric():\n",
    "            while not distance.isnumeric():\n",
    "                print('...error distance must be numeric')\n",
    "                distance = input('What is the distance? \\n    => ')\n",
    "\n",
    "        original_unit = input('What is the input units? \\n    => ').lower()\n",
    "        if original_unit not in supported_units:\n",
    "            while original_unit not in supported_units:\n",
    "                original_unit = input(\n",
    "                    \"...error enter supported units\\nImperial: 'in','ft','yd' and 'mi'\\nMetric: 'm' and 'km'\\n    => \").lower()\n",
    "\n",
    "        conversion_unit = input('What are the output units? \\n    => ').lower()\n",
    "        if conversion_unit not in supported_units:\n",
    "            while conversion_unit not in supported_units:\n",
    "                conversion_unit = input(\n",
    "                    \"...error enter supported units\\nImperial: 'in','ft','yd' and 'mi'\\nMetric: 'm' and 'km'\\n    => \").lower()\n",
    "\n",
    "        distance_converter(distance, original_unit, conversion_unit)\n",
    "        run = input(\n",
    "            \"-----------------------------------------------\\nTo convert to another value enter 'y', exit program with anyother key:\\n    => \")\n",
    "    print('\\n\\nThanks for converting with me!!!')\n",
    "\n",
    "main()"
   ]
  },
  {
   "cell_type": "markdown",
   "metadata": {},
   "source": [
    "Lab-2: Average Numbers"
   ]
  },
  {
   "cell_type": "code",
   "execution_count": null,
   "metadata": {},
   "outputs": [],
   "source": []
  }
 ],
 "metadata": {
  "interpreter": {
   "hash": "866e2c8c203eec35d763764c2aa26893a2916f12d992e6d6b5174c5838905136"
  },
  "kernelspec": {
   "display_name": "Python 3.10.4 ('scipy_venv': venv)",
   "language": "python",
   "name": "python3"
  },
  "language_info": {
   "codemirror_mode": {
    "name": "ipython",
    "version": 3
   },
   "file_extension": ".py",
   "mimetype": "text/x-python",
   "name": "python",
   "nbconvert_exporter": "python",
   "pygments_lexer": "ipython3",
   "version": "3.10.4"
  },
  "orig_nbformat": 4
 },
 "nbformat": 4,
 "nbformat_minor": 2
}
